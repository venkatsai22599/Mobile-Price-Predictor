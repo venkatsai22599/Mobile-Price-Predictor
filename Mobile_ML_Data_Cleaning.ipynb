{
  "nbformat": 4,
  "nbformat_minor": 0,
  "metadata": {
    "colab": {
      "provenance": []
    },
    "kernelspec": {
      "name": "python3",
      "display_name": "Python 3"
    },
    "language_info": {
      "name": "python"
    }
  },
  "cells": [
    {
      "cell_type": "code",
      "execution_count": null,
      "metadata": {
        "id": "NIwLBylSdRT-"
      },
      "outputs": [],
      "source": [
        "import pandas as pd\n",
        "import re"
      ]
    },
    {
      "cell_type": "code",
      "source": [
        "mobile_df = pd.read_csv('/content/Mobile_df_v2.csv')"
      ],
      "metadata": {
        "id": "Xbko0g6O40Yz"
      },
      "execution_count": null,
      "outputs": []
    },
    {
      "cell_type": "code",
      "source": [
        " ## Function to Find Patterns in Android Version\n",
        "def version_pattern(text):\n",
        "    pattern = r'\\b[Android v]{9}\\d+\\.?\\d*\\b'\n",
        "    matching_patterns = re.findall(pattern, text)\n",
        "    return matching_patterns"
      ],
      "metadata": {
        "id": "N_iTtFL-eutq"
      },
      "execution_count": null,
      "outputs": []
    },
    {
      "cell_type": "code",
      "source": [
        "mobile_df['Android Version'] = mobile_df['Android Version'].apply(lambda x: pd.Series(version_pattern(x)))\n",
        "mobile_df['Android Version'] = mobile_df['Android Version'].apply(lambda x: x[9:])\n",
        "mobile_df['Price'] = mobile_df['Price'].str.replace('[Rs.,]','',regex=True)\n",
        "mobile_df['Price'] = mobile_df['Price'].astype(float)\n",
        "mobile_df['Android Version'] = mobile_df['Android Version'].astype(float)"
      ],
      "metadata": {
        "id": "8wA7QFXpfd0B"
      },
      "execution_count": null,
      "outputs": []
    },
    {
      "cell_type": "code",
      "source": [
        "mobile_df['Storage'] = mobile_df['Storage'].apply(lambda x : x.replace(' GB',''))"
      ],
      "metadata": {
        "id": "gO4B5ZxKholR"
      },
      "execution_count": null,
      "outputs": []
    },
    {
      "cell_type": "code",
      "source": [
        "def extract_capacity(battery_str):\n",
        "    capacity_search = re.search(r\"(\\d+)\", battery_str)\n",
        "    return capacity_search.group(0) if capacity_search else \"Unknown\"\n",
        "\n",
        "mobile_df['Battery'] = mobile_df['Battery'].apply(extract_capacity)"
      ],
      "metadata": {
        "id": "Vfvlc91Sh05g"
      },
      "execution_count": null,
      "outputs": []
    },
    {
      "cell_type": "code",
      "source": [
        "def extract_camera(camera_str):\n",
        "    # capacity_search = re.search(r'\\b\\d+ \\b', camera_str)\n",
        "    matching_patterns = re.findall(r'\\b\\d+\\b', camera_str)\n",
        "    return matching_patterns[0] if matching_patterns else \"Unknown\"\n",
        "\n",
        "def extract_camera_count(camera_str):\n",
        "    # capacity_search = re.search(r'\\b\\d+[ MP]{3}\\b', camera_str)\n",
        "    matching_patterns = re.findall(r'\\b\\w+[ Primary]{8}\\b', camera_str)\n",
        "    return matching_patterns[0].split()[0] if matching_patterns[0].split()[0]!='MP' else \"Single\"\n",
        "\n",
        "mobile_df['Primary Camera MP'] = mobile_df['Camera'].apply(extract_camera)\n",
        "mobile_df['Camera count'] = mobile_df['Camera'].apply(extract_camera_count)"
      ],
      "metadata": {
        "id": "14otqQxXiQyn"
      },
      "execution_count": null,
      "outputs": []
    },
    {
      "cell_type": "code",
      "source": [
        "def extract_first_two_words(text):\n",
        "    return ' '.join(text.split()[:2])\n",
        "\n",
        "mobile_df['Processor'] = mobile_df['Performance'].apply(extract_first_two_words)\n",
        "mobile_df['Processor'] = mobile_df['Processor'].apply(lambda x: x.replace(\"['\",\"\"))\n",
        "mobile_df['Processor'] = mobile_df['Processor'].apply(lambda x: x.replace(\",\",\"\"))"
      ],
      "metadata": {
        "id": "-jn0zfEepBK5"
      },
      "execution_count": null,
      "outputs": []
    },
    {
      "cell_type": "code",
      "source": [
        "def extract_media_or_snap_to_gb(text):\n",
        "    match = re.search(r'Media(.*)|Snap(.*)|Unis(.*)', text)\n",
        "    return match.group() if match else None\n",
        "\n",
        "# Apply the function to each row in the 'Performance' column\n",
        "mobile_df['Performance_Info'] = mobile_df['Performance'].apply(extract_media_or_snap_to_gb)"
      ],
      "metadata": {
        "id": "qwKhBZM-BOij"
      },
      "execution_count": null,
      "outputs": []
    },
    {
      "cell_type": "code",
      "source": [
        "mobile_df['Performance_Info'] = mobile_df['Performance_Info'].apply(lambda x: x.replace(\" GB RAM']\",\"\"))\n",
        "mobile_df['Processor'] = mobile_df['Performance_Info'].apply(lambda x: x[:-1])\n",
        "mobile_df['RAM'] = mobile_df['Performance_Info'].apply(lambda x: x[-1])"
      ],
      "metadata": {
        "id": "039D0-3FDmqU"
      },
      "execution_count": null,
      "outputs": []
    },
    {
      "cell_type": "code",
      "source": [
        "mobile_df['Display_Type'] = mobile_df['Display'].apply(lambda x: x.split(', ')[-1])\n",
        "mobile_df['Display_Type'] = mobile_df['Display_Type'].apply(lambda x: x.replace(\"']\",\"\"))"
      ],
      "metadata": {
        "id": "SmvVxduNDvbF"
      },
      "execution_count": null,
      "outputs": []
    },
    {
      "cell_type": "code",
      "source": [
        "def extract_disply(text):\n",
        "    pattern = r'^(.*?)(?=\\d)'\n",
        "    matched = re.search(pattern, text)\n",
        "    return matched.group(1) if matched else text\n",
        "mobile_df['Screen_Display'] = mobile_df['Display_Type'].apply(extract_disply)"
      ],
      "metadata": {
        "id": "pyxx8PuyHXsj"
      },
      "execution_count": null,
      "outputs": []
    },
    {
      "cell_type": "code",
      "source": [
        "# Function to extract screen size\n",
        "def extract_screen_size(display_str):\n",
        "    # Regex to find the first float value which is the screen size\n",
        "    match = re.search(r'(\\d+\\.\\d+)', display_str)\n",
        "    # Return the match if found, otherwise return None\n",
        "    return float(match.group()) if match else None\n",
        "\n",
        "\n",
        "mobile_df['Screen Size'] = mobile_df['Display'].apply(extract_screen_size)"
      ],
      "metadata": {
        "id": "geH-SnlwKfGj"
      },
      "execution_count": null,
      "outputs": []
    },
    {
      "cell_type": "code",
      "source": [
        "def extract_cores(text):\n",
        "    return ' '.join(text.split()[:2])\n",
        "\n",
        "# Apply this function to each row in the 'Performance' column\n",
        "mobile_df['Number of Cores'] = mobile_df['Performance'].apply(extract_cores)\n",
        "mobile_df['Number of Cores'] = mobile_df['Number of Cores'].apply(lambda x : x.replace(\"['\",''))\n",
        "mobile_df['Number of Cores'] = mobile_df['Number of Cores'].apply(lambda x : x.replace(\",\",''))"
      ],
      "metadata": {
        "id": "Fjm-affxKfar"
      },
      "execution_count": null,
      "outputs": []
    },
    {
      "cell_type": "code",
      "source": [
        "# Dropping unwanted columns\n",
        "mobile_df.drop(['Unnamed: 0','Performance','Display','Camera','Performance_Info','Display_Type'],axis=1,inplace=True)"
      ],
      "metadata": {
        "id": "CCq9DUHe09eF"
      },
      "execution_count": null,
      "outputs": []
    },
    {
      "cell_type": "code",
      "source": [
        "mobile_df.columns = (['Mobile Name', 'Android Version', 'Price(INR)','Battery(mAh)',\n",
        "                      'Storage(GB)','Primary Camera(MP)','Number of Cameras',\n",
        "                      'Processor','RAM(GB)','Display Type','Screen Size(in)','Number of Cores'])"
      ],
      "metadata": {
        "id": "s4uZYzzGB11g"
      },
      "execution_count": null,
      "outputs": []
    },
    {
      "cell_type": "code",
      "source": [
        "column_order = ['Mobile Name', 'RAM(GB)','Storage(GB)','Processor',\n",
        "                'Number of Cameras','Primary Camera(MP)','Display Type','Screen Size(in)',\n",
        "                'Android Version','Battery(mAh)','Number of Cores', 'Price(INR)']"
      ],
      "metadata": {
        "id": "x9pj6btwCqTL"
      },
      "execution_count": null,
      "outputs": []
    },
    {
      "cell_type": "code",
      "source": [
        "mobile_df = mobile_df.loc[:, column_order]"
      ],
      "metadata": {
        "id": "Vyq3HnQFEbgt"
      },
      "execution_count": null,
      "outputs": []
    },
    {
      "cell_type": "code",
      "source": [
        "mobile_df.to_csv('Mobile_df_v3.csv')"
      ],
      "metadata": {
        "id": "qAAMWT8tF2TE"
      },
      "execution_count": null,
      "outputs": []
    },
    {
      "cell_type": "code",
      "source": [
        "mobile_df = pd.read_csv('/content/Mobile_df_v4.csv')"
      ],
      "metadata": {
        "id": "inxX-coiF3EW"
      },
      "execution_count": null,
      "outputs": []
    },
    {
      "cell_type": "code",
      "source": [
        "mobile_df['Number of Cores'] = mobile_df['Number of Cores'].apply(lambda x : x.replace(\",\",''))"
      ],
      "metadata": {
        "id": "j0jKYIRRSgzo"
      },
      "execution_count": null,
      "outputs": []
    },
    {
      "cell_type": "code",
      "source": [
        "mobile_df.to_csv('Mobile_df_v5.csv')"
      ],
      "metadata": {
        "id": "R-Cxn6vCTJp1"
      },
      "execution_count": null,
      "outputs": []
    },
    {
      "cell_type": "code",
      "source": [],
      "metadata": {
        "id": "vo7X-bHLTSxy"
      },
      "execution_count": null,
      "outputs": []
    }
  ]
}